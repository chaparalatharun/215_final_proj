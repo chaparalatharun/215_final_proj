{
 "cells": [
  {
   "cell_type": "code",
   "execution_count": 150,
   "metadata": {},
   "outputs": [],
   "source": [
    "import os\n",
    "from google.auth.transport.requests import Request\n",
    "from google.oauth2.credentials import Credentials\n",
    "from google_auth_oauthlib.flow import InstalledAppFlow\n",
    "from googleapiclient.discovery import build\n",
    "from datetime import datetime, timedelta"
   ]
  },
  {
   "cell_type": "code",
   "execution_count": 204,
   "metadata": {},
   "outputs": [
    {
     "name": "stdout",
     "output_type": "stream",
     "text": [
      "Please visit this URL to authorize this application: https://accounts.google.com/o/oauth2/auth?response_type=code&client_id=261808777338-vqdke41pbqeccdbd20v1tdeojnaqgu85.apps.googleusercontent.com&redirect_uri=http%3A%2F%2Flocalhost%3A8080%2F&scope=https%3A%2F%2Fwww.googleapis.com%2Fauth%2Fcalendar.events+https%3A%2F%2Fwww.googleapis.com%2Fauth%2Fdrive+https%3A%2F%2Fwww.googleapis.com%2Fauth%2Fcalendar.readonly&state=WiHYD2lhRxgG7hcdQ6mwDv5OblY97O&access_type=offline\n"
     ]
    }
   ],
   "source": [
    "SCOPES = [\n",
    "    'https://www.googleapis.com/auth/calendar.events',\n",
    "    'https://www.googleapis.com/auth/drive',\n",
    "    'https://www.googleapis.com/auth/calendar.readonly'\n",
    "]\n",
    "\n",
    "def main():\n",
    "    creds = None\n",
    "\n",
    "    if os.path.exists('token.json'):\n",
    "        creds = Credentials.from_authorized_user_file('token.json', SCOPES)\n",
    "\n",
    "    if not creds or not creds.valid:\n",
    "        if creds and creds.expired and creds.refresh_token:\n",
    "            creds.refresh(Request())\n",
    "        else:\n",
    "            flow = InstalledAppFlow.from_client_secrets_file('credentials.json', SCOPES)\n",
    "            creds = flow.run_local_server(port=8080)\n",
    "\n",
    "        with open('token.json', 'w') as token:\n",
    "            token.write(creds.to_json())\n",
    "\n",
    "if __name__ == '__main__':\n",
    "    main()"
   ]
  },
  {
   "cell_type": "code",
   "execution_count": 205,
   "metadata": {},
   "outputs": [
    {
     "name": "stdout",
     "output_type": "stream",
     "text": [
      "Error retrieving document content: <HttpError 403 when requesting https://docs.googleapis.com/v1/documents/1Yaq9bvvwEVlF88rKYFdksqf9Hf6OQjJTEgeXnvFFdGQ?alt=json returned \"The caller does not have permission\". Details: \"The caller does not have permission\">\n",
      "Failed to retrieve document content.\n"
     ]
    }
   ],
   "source": [
    "def get_document_content(document_id):\n",
    "    creds = Credentials.from_authorized_user_file('token.json')\n",
    "\n",
    "    # SCOPES remains the same\n",
    "    service = build('docs', 'v1', credentials=creds)\n",
    "\n",
    "    try:\n",
    "        document = service.documents().get(documentId=document_id).execute()\n",
    "        content = document.get('body').get('content')\n",
    "        return content\n",
    "    except Exception as e:\n",
    "        print(f\"Error retrieving document content: {e}\")\n",
    "        return None\n",
    "\n",
    "# Example usage:\n",
    "document_id = 'YOUR_DOCUMENT_ID'  # Replace with your actual document ID\n",
    "content = get_document_content('1Yaq9bvvwEVlF88rKYFdksqf9Hf6OQjJTEgeXnvFFdGQ')\n",
    "\n",
    "if content:\n",
    "    print(\"Document Content:\")\n",
    "    print(content)\n",
    "    output = content[1]['paragraph']['elements'][0]['textRun']['content']\n",
    "else:\n",
    "    print(\"Failed to retrieve document content.\")"
   ]
  },
  {
   "cell_type": "code",
   "execution_count": 215,
   "metadata": {},
   "outputs": [],
   "source": [
    "output"
   ]
  },
  {
   "cell_type": "code",
   "execution_count": 216,
   "metadata": {},
   "outputs": [],
   "source": [
    "import openai\n",
    "api_key = \"sk-proj-FoSaiCmz1LDP6hk6KNYBT3BlbkFJw09Im1RN56SUbv31peBR\"\n",
    "\n",
    "from datetime import datetime\n",
    "today = str(datetime.utcnow())"
   ]
  },
  {
   "cell_type": "code",
   "execution_count": 217,
   "metadata": {},
   "outputs": [
    {
     "name": "stdout",
     "output_type": "stream",
     "text": [
      "{\n",
      "\"appointment_information\": \"Appointment with Hemanth\",\n",
      "\"start_date_time\": \"2024-05-05T22:55:00\",\n",
      "\"end_date_time\": \"2024-05-05T23:55:00\"\n",
      "}"
     ]
    }
   ],
   "source": [
    "from openai import OpenAI\n",
    "import json\n",
    "\n",
    "client = OpenAI(api_key = api_key)\n",
    "response = \"\"\n",
    "example = {\n",
    "  \"appointment_information\": \"Appointment with John Doe\",\n",
    "  \"start_date_time\": \"2024-05-04T08:00:00\",\n",
    "  \"end_date_ime\": \"2024-05-04T09:00:00\"\n",
    "}\n",
    "example = json.dumps(example)\n",
    "\n",
    "stream = client.chat.completions.create(\n",
    "    model=\"gpt-4\",\n",
    "    messages=[\n",
    "        {\"role\": \"user\", \n",
    "         \"content\": \"you only give in a json format with appointment_information, start_date_time(iso_format) and end_date_time(iso_format), today's date is\"+today+ \"example: \"+ example +output +\"\\n now read the above text and give me the response, response MUST be formatted in JSON\"\n",
    "        }\n",
    "         ],\n",
    "    stream=True,\n",
    ")\n",
    "for chunk in stream:\n",
    "    if chunk.choices[0].delta.content is not None:\n",
    "        print(chunk.choices[0].delta.content, end=\"\")\n",
    "        response += chunk.choices[0].delta.content"
   ]
  },
  {
   "cell_type": "code",
   "execution_count": 218,
   "metadata": {},
   "outputs": [
    {
     "name": "stdout",
     "output_type": "stream",
     "text": [
      "{\n",
      "\"appointment_information\": \"Appointment with Hemanth\",\n",
      "\"start_date_time\": \"2024-05-05T22:55:00\",\n",
      "\"end_date_time\": \"2024-05-05T23:55:00\"\n",
      "}\n"
     ]
    }
   ],
   "source": [
    "print(response)"
   ]
  },
  {
   "cell_type": "code",
   "execution_count": 219,
   "metadata": {},
   "outputs": [
    {
     "name": "stdout",
     "output_type": "stream",
     "text": [
      "{'appointment_information': 'Appointment with Hemanth', 'start_date_time': '2024-05-05T22:55:00', 'end_date_time': '2024-05-05T23:55:00'}\n"
     ]
    }
   ],
   "source": [
    "import json\n",
    "details = json.loads(response)\n",
    "print(details)"
   ]
  },
  {
   "cell_type": "code",
   "execution_count": 220,
   "metadata": {},
   "outputs": [
    {
     "name": "stdout",
     "output_type": "stream",
     "text": [
      "Calendar ID: poornavenkat.n@gmail.com\n",
      "Timezone: Asia/Kolkata\n",
      "Calendar ID: addressbook#contacts@group.v.calendar.google.com\n",
      "Timezone: Asia/Kolkata\n",
      "Calendar ID: en-gb.indian#holiday@group.v.calendar.google.com\n",
      "Timezone: Asia/Kolkata\n"
     ]
    }
   ],
   "source": [
    "# Load credentials from token.json\n",
    "creds = Credentials.from_authorized_user_file('token.json')\n",
    "\n",
    "# Build the service\n",
    "service = build('calendar', 'v3', credentials=creds)\n",
    "\n",
    "# Retrieve a list of calendars\n",
    "calendar_list = service.calendarList().list().execute()\n",
    "\n",
    "# Iterate through each calendar and print its timezone\n",
    "for calendar in calendar_list.get('items', []):\n",
    "    print('Calendar ID:', calendar['id'])\n",
    "    print('Timezone:', calendar.get('timeZone', 'Unknown'))"
   ]
  },
  {
   "cell_type": "code",
   "execution_count": 221,
   "metadata": {},
   "outputs": [],
   "source": [
    "time_zone = 'UTC'"
   ]
  },
  {
   "cell_type": "code",
   "execution_count": 222,
   "metadata": {},
   "outputs": [
    {
     "name": "stdout",
     "output_type": "stream",
     "text": [
      "Event created: https://www.google.com/calendar/event?eid=ZmJyN3BxNzhpNDY1NWg4YzlvcTg2Y2liMTAgcG9vcm5hdmVua2F0Lm5AbQ\n"
     ]
    }
   ],
   "source": [
    "# Load credentials from token.json\n",
    "creds = Credentials.from_authorized_user_file('token.json')\n",
    "calendar = build('calendar', 'v3', credentials=creds)\n",
    "\n",
    "# Define appointment details\n",
    "appointment_summary = details['appointment_information']\n",
    "# appointment_start = datetime.strptime(details['start_date'], \"%Y-%m-%dT%H:%M:%S\")\n",
    "# appointment_end = datetime.strptime(details['end_date'], \"%Y-%m-%dT%H:%M:%S\")\n",
    "\n",
    "# Replace 'Your_Time_Zone' with the actual timezone, e.g., 'America/New_York'\n",
    "\n",
    "# Create event body\n",
    "event = {\n",
    "    'summary': appointment_summary,\n",
    "    'start': {'dateTime': details[\"start_date_time\"], 'timeZone': time_zone},\n",
    "    'end': {'dateTime': details[\"end_date_time\"], 'timeZone': time_zone}\n",
    "}\n",
    "\n",
    "# Insert event\n",
    "event = calendar.events().insert(calendarId='primary', body=event).execute()\n",
    "print('Event created: %s' % (event.get('htmlLink')))\n"
   ]
  },
  {
   "cell_type": "code",
   "execution_count": 223,
   "metadata": {},
   "outputs": [
    {
     "data": {
      "text/plain": [
       "{'appointment_information': 'Appointment with Hemanth',\n",
       " 'start_date_time': '2024-05-05T22:55:00',\n",
       " 'end_date_time': '2024-05-05T23:55:00'}"
      ]
     },
     "execution_count": 223,
     "metadata": {},
     "output_type": "execute_result"
    }
   ],
   "source": [
    "details"
   ]
  },
  {
   "cell_type": "code",
   "execution_count": null,
   "metadata": {},
   "outputs": [],
   "source": []
  },
  {
   "cell_type": "code",
   "execution_count": null,
   "metadata": {},
   "outputs": [],
   "source": []
  }
 ],
 "metadata": {
  "kernelspec": {
   "display_name": "Python 3",
   "language": "python",
   "name": "python3"
  },
  "language_info": {
   "codemirror_mode": {
    "name": "ipython",
    "version": 3
   },
   "file_extension": ".py",
   "mimetype": "text/x-python",
   "name": "python",
   "nbconvert_exporter": "python",
   "pygments_lexer": "ipython3",
   "version": "3.11.6"
  }
 },
 "nbformat": 4,
 "nbformat_minor": 2
}
